{
  "cells": [
    {
      "cell_type": "code",
      "execution_count": null,
      "metadata": {
        "id": "eLd-jhrq_W5A"
      },
      "outputs": [],
      "source": [
        "pip install openimages"
      ]
    },
    {
      "cell_type": "code",
      "execution_count": null,
      "metadata": {
        "id": "KMvsFfbM_W5B"
      },
      "outputs": [],
      "source": [
        "pip install torch torchvision"
      ]
    },
    {
      "cell_type": "code",
      "execution_count": 3,
      "metadata": {
        "id": "1kfy1HwSgvNL"
      },
      "outputs": [],
      "source": [
        "import os\n",
        "from openimages.download import download_dataset\n",
        "import torch\n",
        "import torchvision\n",
        "from torchvision import datasets\n",
        "from torchvision.transforms import transforms\n",
        "from torch.utils.data import DataLoader\n",
        "from torch.utils.data import Dataset\n",
        "import numpy as np\n",
        "import glob\n",
        "import PIL\n",
        "import matplotlib.pyplot as plt\n",
        "from PIL import Image"
      ]
    },
    {
      "cell_type": "code",
      "execution_count": 4,
      "metadata": {
        "id": "rI_rP8Ta_W5C",
        "outputId": "20581a92-826b-4f98-8d40-05d5a2bfb547",
        "colab": {
          "base_uri": "https://localhost:8080/"
        }
      },
      "outputs": [
        {
          "output_type": "stream",
          "name": "stderr",
          "text": [
            "100%|██████████| 334/334 [00:07<00:00, 45.47it/s]\n",
            "100%|██████████| 334/334 [00:07<00:00, 47.67it/s]\n",
            "100%|██████████| 334/334 [00:06<00:00, 50.76it/s]\n"
          ]
        },
        {
          "output_type": "execute_result",
          "data": {
            "text/plain": [
              "{'strawberry': {'images_dir': 'data/strawberry/images'},\n",
              " 'fountain': {'images_dir': 'data/fountain/images'},\n",
              " 'lemon': {'images_dir': 'data/lemon/images'}}"
            ]
          },
          "metadata": {},
          "execution_count": 4
        }
      ],
      "source": [
        "data_dir = \"data\"\n",
        "number_for_samples = 334 # for each category\n",
        "classes = [\"Strawberry\", \"Fountain\", \"Lemon\"]\n",
        "\n",
        "if not os.path.exists(data_dir):\n",
        "    os.makedirs(data_dir)\n",
        "\n",
        "download_dataset(data_dir, classes, limit=number_for_samples)"
      ]
    },
    {
      "cell_type": "code",
      "source": [
        "import requests\n",
        "import zipfile\n",
        "\n",
        "# url of imagenet classes because resent model is pre-trained on imagenet\n",
        "# https://gist.github.com/yrevar/942d3a0ac09ec9e5eb3a#file-imagenet1000_clsidx_to_labels-txt\n",
        "url = \"https://gist.github.com/yrevar/942d3a0ac09ec9e5eb3a/archive/238f720ff059c1f82f368259d1ca4ffa5dd8f9f5.zip\"\n",
        "\n",
        "\n",
        "response = requests.get(url)\n",
        "zip_file_path = \"imagenet_labels.zip\"\n",
        "with open(zip_file_path, \"wb\") as zip_file:\n",
        "    zip_file.write(response.content)\n",
        "\n",
        "with zipfile.ZipFile(zip_file_path, 'r') as zip_ref:\n",
        "    zip_ref.extractall() # unzip the downloaded file\n",
        "\n",
        "original_folder_name = \"942d3a0ac09ec9e5eb3a-238f720ff059c1f82f368259d1ca4ffa5dd8f9f5\"\n",
        "new_folder_name = \"imagenet_labels\"\n",
        "os.rename(original_folder_name, new_folder_name)\n",
        "\n",
        "classes_file_path = os.path.join(new_folder_name, \"imagenet1000_clsidx_to_labels.txt\") # image classes that also exist in imagenet\n",
        "with open(classes_file_path) as cf:\n",
        "    class_list = [line.split('\\'')[1].lower().split(\", \") for line in cf.readlines()]\n",
        "class_indexes = { c: [idx for idx, s in enumerate(class_list) if c.lower() in s][0] for c in classes } # index of my classes in imagenet"
      ],
      "metadata": {
        "id": "iP4-dhnVhfIY"
      },
      "execution_count": 9,
      "outputs": []
    },
    {
      "cell_type": "code",
      "execution_count": 11,
      "metadata": {
        "id": "IaxzAthe_W5D"
      },
      "outputs": [],
      "source": [
        "transform = transforms.Compose([\n",
        "    torchvision.transforms.Resize((224,224)),\n",
        "    # this can help in data augmentation, making the model more robust to different lighting conditions and color variations.\n",
        "    torchvision.transforms.ColorJitter(hue=.05, saturation=.05),\n",
        "    torchvision.transforms.RandomHorizontalFlip(),\n",
        "    torchvision.transforms.RandomRotation(20, expand=False, center=None, fill=None),\n",
        "    transforms.ToTensor()  # convert the transformed image into a PyTorch tensor\n",
        "])"
      ]
    },
    {
      "cell_type": "code",
      "execution_count": null,
      "metadata": {
        "id": "c6etrmfAgvNM"
      },
      "outputs": [],
      "source": [
        "from torchvision.models import resnet50, ResNet50_Weights\n",
        "from tqdm import tqdm as tqdm\n",
        "\n",
        "# preparation of the existing pre-trained model\n",
        "if torch.cuda.is_available():\n",
        "    device = 'cuda' # cuda = gpu\n",
        "else:\n",
        "    device = 'cpu'\n",
        "\n",
        "weights = ResNet50_Weights.IMAGENET1K_V2\n",
        "model = resnet50(weights=weights)\n",
        "model.to(device)\n",
        "model.eval()"
      ]
    },
    {
      "cell_type": "code",
      "execution_count": 14,
      "metadata": {
        "id": "zfg8orzPgvNM"
      },
      "outputs": [],
      "source": [
        "class CustomDataset(Dataset):\n",
        "    def __init__(self, images_dir, transform):\n",
        "      self.images_dir = images_dir\n",
        "      self.transform = transform\n",
        "\n",
        "      self.files = []\n",
        "      self.labels = []\n",
        "\n",
        "      self.class1_files = glob.glob(self.images_dir + \"/{}/images/*.jpg\".format(classes[0].lower()))\n",
        "      self.class2_files = glob.glob(self.images_dir + \"/{}/images/*.jpg\".format(classes[1].lower()))\n",
        "      self.class3_files = glob.glob(self.images_dir + \"/{}/images/*.jpg\".format(classes[2].lower()))\n",
        "      self.class1 = len(self.class1_files)\n",
        "      self.class2 = len(self.class2_files)\n",
        "      self.class3 = len(self.class3_files)\n",
        "\n",
        "      self.files = self.class1_files + self.class2_files + self.class3_files\n",
        "\n",
        "      self.labels = np.zeros(len(self.files))\n",
        "      self.labels[:self.class1] = 0 # 0 until the last index of class 1\n",
        "      self.labels[self.class1:self.class1+self.class2] = 1 # selects a portion of this array, starting from index self.class1 and ending just before index self.class2\n",
        "      self.labels[self.class1+self.class2:] = 2\n",
        "\n",
        "      # shuffle data\n",
        "      self.order = np.random.permutation(len(self.labels))\n",
        "      self.files = [self.files[i] for i in self.order]\n",
        "      self.labels = self.labels[self.order]\n",
        "\n",
        "    def __len__(self):\n",
        "        return (len(self.files)) # length\n",
        "\n",
        "    def __getitem__(self, i):\n",
        "        file = self.files[i]\n",
        "        label = self.labels[i]\n",
        "\n",
        "        image = Image.open(file).convert('RGB')\n",
        "        img = self.transform(image)\n",
        "\n",
        "        label = int(label.item())\n",
        "\n",
        "        return (img, label)"
      ]
    },
    {
      "cell_type": "code",
      "execution_count": 15,
      "metadata": {
        "id": "jK5EpYtYgvNM"
      },
      "outputs": [],
      "source": [
        "dataset = CustomDataset(data_dir, transform)\n",
        "data_loader = torch.utils.data.DataLoader(dataset, batch_size=25, shuffle=True) # loads data in batches of 25, # num_workers asynchronously load data, helps with speed"
      ]
    },
    {
      "cell_type": "code",
      "execution_count": 16,
      "metadata": {
        "id": "HM4oDl0PgvNM"
      },
      "outputs": [],
      "source": [
        "predictions = {c: [] for c in classes}\n",
        "truth_values = {c: [] for c in classes}\n",
        "\n",
        "for image, label in data_loader:\n",
        "  with torch.no_grad():\n",
        "    image.to(device)\n",
        "    outputs = model(image).softmax(dim=1) # a list of an image's likelihood (probability) to belong to any of the 1000 classes\n",
        "\n",
        "    for c_name in classes:\n",
        "      predictions[c_name].extend([o.detach().numpy()[class_indexes[c_name]] for o in outputs])\n",
        "      truth_values[c_name].extend([l.item() == classes.index(c_name) for l in label])"
      ]
    },
    {
      "cell_type": "code",
      "execution_count": 18,
      "metadata": {
        "id": "KE9PpeUTgvNM"
      },
      "outputs": [],
      "source": [
        "def statistics(predictions, truth_values, thresh = 0.5):\n",
        "  pred_after_thresh = (predictions >= thresh) # we set the threshold and count anything above it as a success\n",
        "\n",
        "  TP = np.sum(np.logical_and(pred_after_thresh == 1, truth_values == 1))\n",
        "  TN = np.sum(np.logical_and(pred_after_thresh == 0, truth_values == 0))\n",
        "  FP = np.sum(np.logical_and(pred_after_thresh == 1, truth_values == 0))\n",
        "  FN = np.sum(np.logical_and(pred_after_thresh == 0, truth_values == 1))\n",
        "\n",
        "  statistics = {}\n",
        "  statistics[\"accuracy\"] = (TP + TN) / (TP + TN + FP + FN)\n",
        "  statistics[\"precision\"] = TP / (TP + FP)\n",
        "  statistics[\"recall\"] = TP / (TP + FN)\n",
        "  statistics[\"F1\"] = 2 / (1 / statistics[\"precision\"] + 1 / statistics[\"recall\"])\n",
        "\n",
        "  return statistics"
      ]
    },
    {
      "cell_type": "code",
      "execution_count": 19,
      "metadata": {
        "id": "a0pydz--gvNM",
        "outputId": "dc9f5c76-60d4-47c4-dad7-dae5aea4f1e7",
        "colab": {
          "base_uri": "https://localhost:8080/"
        }
      },
      "outputs": [
        {
          "output_type": "stream",
          "name": "stdout",
          "text": [
            "Strawberry statistics:\n",
            "  accuracy:  0.684\n",
            "  precision:  1.000\n",
            "  recall:  0.051\n",
            "  F1:  0.097\n",
            "Fountain statistics:\n",
            "  accuracy:  0.716\n",
            "  precision:  1.000\n",
            "  recall:  0.147\n",
            "  F1:  0.256\n",
            "Lemon statistics:\n",
            "  accuracy:  0.686\n",
            "  precision:  1.000\n",
            "  recall:  0.057\n",
            "  F1:  0.108\n",
            "Average:\n",
            "  accuracy:  0.695\n",
            "  precision:  1.000\n",
            "  recall:  0.085\n",
            "  F1:  0.153\n"
          ]
        }
      ],
      "source": [
        "results = {}\n",
        "results_average = {}\n",
        "\n",
        "for c_name in classes:\n",
        "  results = statistics(np.array(predictions[c_name]), np.array(truth_values[c_name]))\n",
        "  print(f\"{c_name} statistics:\")\n",
        "\n",
        "  for r in results:\n",
        "    print(f\"  {r}: {results[r]: .3f}\")\n",
        "    results_average[r] = (results_average[r] if r in results_average else 0) + results[r]\n",
        "\n",
        "\n",
        "print('Average:')\n",
        "for r in results_average:\n",
        "  print(f\"  {r}: {results_average[r] / len(classes): .3f}\")"
      ]
    }
  ],
  "metadata": {
    "colab": {
      "provenance": []
    },
    "kernelspec": {
      "display_name": "Python 3",
      "language": "python",
      "name": "python3"
    },
    "language_info": {
      "codemirror_mode": {
        "name": "ipython",
        "version": 3
      },
      "file_extension": ".py",
      "mimetype": "text/x-python",
      "name": "python",
      "nbconvert_exporter": "python",
      "pygments_lexer": "ipython3",
      "version": "3.10.13"
    }
  },
  "nbformat": 4,
  "nbformat_minor": 0
}
