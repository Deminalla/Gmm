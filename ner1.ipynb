{
  "cells": [
    {
      "cell_type": "markdown",
      "metadata": {
        "id": "9-nIsNhOP4nw"
      },
      "source": [
        "Instaliuojame reikalingas bibliotekas"
      ]
    },
    {
      "cell_type": "code",
      "execution_count": 1,
      "metadata": {
        "id": "QOPuFVBVHDq8"
      },
      "outputs": [
        {
          "name": "stdout",
          "output_type": "stream",
          "text": [
            "Requirement already satisfied: openimages in c:\\users\\deniz\\miniconda3\\envs\\myenv\\lib\\site-packages (0.0.1)\n",
            "Requirement already satisfied: boto3 in c:\\users\\deniz\\miniconda3\\envs\\myenv\\lib\\site-packages (from openimages) (1.34.46)\n",
            "Requirement already satisfied: cvdata in c:\\users\\deniz\\miniconda3\\envs\\myenv\\lib\\site-packages (from openimages) (0.0.3)\n",
            "Requirement already satisfied: lxml in c:\\users\\deniz\\miniconda3\\envs\\myenv\\lib\\site-packages (from openimages) (5.1.0)\n",
            "Requirement already satisfied: pandas in c:\\users\\deniz\\miniconda3\\envs\\myenv\\lib\\site-packages (from openimages) (2.2.0)\n",
            "Requirement already satisfied: requests in c:\\users\\deniz\\miniconda3\\envs\\myenv\\lib\\site-packages (from openimages) (2.28.1)\n",
            "Requirement already satisfied: tqdm in c:\\users\\deniz\\miniconda3\\envs\\myenv\\lib\\site-packages (from openimages) (4.66.2)\n",
            "Requirement already satisfied: botocore<1.35.0,>=1.34.46 in c:\\users\\deniz\\miniconda3\\envs\\myenv\\lib\\site-packages (from boto3->openimages) (1.34.46)\n",
            "Requirement already satisfied: jmespath<2.0.0,>=0.7.1 in c:\\users\\deniz\\miniconda3\\envs\\myenv\\lib\\site-packages (from boto3->openimages) (1.0.1)\n",
            "Requirement already satisfied: s3transfer<0.11.0,>=0.10.0 in c:\\users\\deniz\\miniconda3\\envs\\myenv\\lib\\site-packages (from boto3->openimages) (0.10.0)\n",
            "Requirement already satisfied: numpy in c:\\users\\deniz\\miniconda3\\envs\\myenv\\lib\\site-packages (from cvdata->openimages) (1.26.3)\n",
            "Requirement already satisfied: opencv-python in c:\\users\\deniz\\miniconda3\\envs\\myenv\\lib\\site-packages (from cvdata->openimages) (4.9.0.80)\n",
            "Requirement already satisfied: pillow in c:\\users\\deniz\\miniconda3\\envs\\myenv\\lib\\site-packages (from cvdata->openimages) (10.2.0)\n",
            "Requirement already satisfied: python-dateutil>=2.8.2 in c:\\users\\deniz\\appdata\\roaming\\python\\python310\\site-packages (from pandas->openimages) (2.8.2)\n",
            "Requirement already satisfied: pytz>=2020.1 in c:\\users\\deniz\\miniconda3\\envs\\myenv\\lib\\site-packages (from pandas->openimages) (2024.1)\n",
            "Requirement already satisfied: tzdata>=2022.7 in c:\\users\\deniz\\miniconda3\\envs\\myenv\\lib\\site-packages (from pandas->openimages) (2024.1)\n",
            "Requirement already satisfied: charset-normalizer<3,>=2 in c:\\users\\deniz\\miniconda3\\envs\\myenv\\lib\\site-packages (from requests->openimages) (2.1.1)\n",
            "Requirement already satisfied: idna<4,>=2.5 in c:\\users\\deniz\\miniconda3\\envs\\myenv\\lib\\site-packages (from requests->openimages) (3.4)\n",
            "Requirement already satisfied: urllib3<1.27,>=1.21.1 in c:\\users\\deniz\\miniconda3\\envs\\myenv\\lib\\site-packages (from requests->openimages) (1.26.13)\n",
            "Requirement already satisfied: certifi>=2017.4.17 in c:\\users\\deniz\\miniconda3\\envs\\myenv\\lib\\site-packages (from requests->openimages) (2022.12.7)\n",
            "Requirement already satisfied: colorama in c:\\users\\deniz\\appdata\\roaming\\python\\python310\\site-packages (from tqdm->openimages) (0.4.6)\n",
            "Requirement already satisfied: six>=1.5 in c:\\users\\deniz\\appdata\\roaming\\python\\python310\\site-packages (from python-dateutil>=2.8.2->pandas->openimages) (1.16.0)\n",
            "Requirement already satisfied: torch in c:\\users\\deniz\\miniconda3\\envs\\myenv\\lib\\site-packages (2.2.0+cu118)\n",
            "Collecting torch\n",
            "  Downloading torch-2.2.1-cp310-cp310-win_amd64.whl.metadata (26 kB)\n",
            "Requirement already satisfied: torchvision in c:\\users\\deniz\\miniconda3\\envs\\myenv\\lib\\site-packages (0.17.0+cu118)\n",
            "Collecting torchvision\n",
            "  Downloading torchvision-0.17.1-cp310-cp310-win_amd64.whl.metadata (6.6 kB)\n",
            "Requirement already satisfied: torchaudio in c:\\users\\deniz\\miniconda3\\envs\\myenv\\lib\\site-packages (2.2.0+cu118)\n",
            "Collecting torchaudio\n",
            "  Downloading torchaudio-2.2.1-cp310-cp310-win_amd64.whl.metadata (6.4 kB)\n",
            "Requirement already satisfied: filelock in c:\\users\\deniz\\miniconda3\\envs\\myenv\\lib\\site-packages (from torch) (3.9.0)\n",
            "Requirement already satisfied: typing-extensions>=4.8.0 in c:\\users\\deniz\\miniconda3\\envs\\myenv\\lib\\site-packages (from torch) (4.8.0)\n",
            "Requirement already satisfied: sympy in c:\\users\\deniz\\miniconda3\\envs\\myenv\\lib\\site-packages (from torch) (1.12)\n",
            "Requirement already satisfied: networkx in c:\\users\\deniz\\miniconda3\\envs\\myenv\\lib\\site-packages (from torch) (3.2.1)\n",
            "Requirement already satisfied: jinja2 in c:\\users\\deniz\\miniconda3\\envs\\myenv\\lib\\site-packages (from torch) (3.1.2)\n",
            "Requirement already satisfied: fsspec in c:\\users\\deniz\\miniconda3\\envs\\myenv\\lib\\site-packages (from torch) (2023.4.0)\n",
            "Requirement already satisfied: numpy in c:\\users\\deniz\\miniconda3\\envs\\myenv\\lib\\site-packages (from torchvision) (1.26.3)\n",
            "Requirement already satisfied: pillow!=8.3.*,>=5.3.0 in c:\\users\\deniz\\miniconda3\\envs\\myenv\\lib\\site-packages (from torchvision) (10.2.0)\n",
            "Requirement already satisfied: MarkupSafe>=2.0 in c:\\users\\deniz\\miniconda3\\envs\\myenv\\lib\\site-packages (from jinja2->torch) (2.1.3)\n",
            "Requirement already satisfied: mpmath>=0.19 in c:\\users\\deniz\\miniconda3\\envs\\myenv\\lib\\site-packages (from sympy->torch) (1.3.0)\n",
            "Downloading torch-2.2.1-cp310-cp310-win_amd64.whl (198.6 MB)\n",
            "   ---------------------------------------- 0.0/198.6 MB ? eta -:--:--\n",
            "   ---------------------------------------- 0.1/198.6 MB 1.7 MB/s eta 0:01:54\n",
            "   ---------------------------------------- 0.1/198.6 MB 1.3 MB/s eta 0:02:32\n",
            "   ---------------------------------------- 0.2/198.6 MB 2.0 MB/s eta 0:01:42\n",
            "   ---------------------------------------- 0.4/198.6 MB 2.2 MB/s eta 0:01:29\n",
            "   ---------------------------------------- 0.5/198.6 MB 2.2 MB/s eta 0:01:31\n",
            "   ---------------------------------------- 1.0/198.6 MB 3.5 MB/s eta 0:00:58\n",
            "   ---------------------------------------- 1.8/198.6 MB 5.6 MB/s eta 0:00:36\n",
            "    --------------------------------------- 3.4/198.6 MB 8.9 MB/s eta 0:00:22\n",
            "    --------------------------------------- 4.6/198.6 MB 11.3 MB/s eta 0:00:18\n",
            "   - -------------------------------------- 5.4/198.6 MB 11.6 MB/s eta 0:00:17\n",
            "   - -------------------------------------- 6.9/198.6 MB 13.4 MB/s eta 0:00:15\n",
            "   - -------------------------------------- 8.8/198.6 MB 15.6 MB/s eta 0:00:13\n",
            "   -- ------------------------------------- 10.7/198.6 MB 27.3 MB/s eta 0:00:07\n",
            "   -- ------------------------------------- 13.2/198.6 MB 34.6 MB/s eta 0:00:06\n",
            "   --- ------------------------------------ 15.3/198.6 MB 40.9 MB/s eta 0:00:05\n",
            "   --- ------------------------------------ 17.0/198.6 MB 43.7 MB/s eta 0:00:05\n",
            "   --- ------------------------------------ 18.5/198.6 MB 40.9 MB/s eta 0:00:05\n",
            "   --- ------------------------------------ 19.8/198.6 MB 38.5 MB/s eta 0:00:05\n",
            "   ---- ----------------------------------- 20.8/198.6 MB 36.4 MB/s eta 0:00:05\n",
            "   ---- ----------------------------------- 22.1/198.6 MB 32.7 MB/s eta 0:00:06\n",
            "   ---- ----------------------------------- 24.0/198.6 MB 32.7 MB/s eta 0:00:06\n",
            "   ----- ---------------------------------- 25.4/198.6 MB 29.7 MB/s eta 0:00:06\n",
            "   ----- ---------------------------------- 26.2/198.6 MB 25.2 MB/s eta 0:00:07\n",
            "   ----- ---------------------------------- 29.4/198.6 MB 28.4 MB/s eta 0:00:06\n",
            "   ------ --------------------------------- 32.4/198.6 MB 34.4 MB/s eta 0:00:05\n",
            "   ------ --------------------------------- 34.0/198.6 MB 34.6 MB/s eta 0:00:05\n",
            "   ------- -------------------------------- 35.8/198.6 MB 40.9 MB/s eta 0:00:04\n",
            "   ------- -------------------------------- 37.3/198.6 MB 46.7 MB/s eta 0:00:04\n",
            "   ------- -------------------------------- 39.1/198.6 MB 43.7 MB/s eta 0:00:04\n",
            "   -------- ------------------------------- 40.8/198.6 MB 38.5 MB/s eta 0:00:05\n",
            "   -------- ------------------------------- 42.8/198.6 MB 36.4 MB/s eta 0:00:05\n",
            "   --------- ------------------------------ 44.7/198.6 MB 38.5 MB/s eta 0:00:04\n",
            "   --------- ------------------------------ 46.3/198.6 MB 38.5 MB/s eta 0:00:04\n",
            "   --------- ------------------------------ 48.0/198.6 MB 38.6 MB/s eta 0:00:04\n",
            "   ---------- ----------------------------- 49.7/198.6 MB 38.6 MB/s eta 0:00:04\n",
            "   ---------- ----------------------------- 51.5/198.6 MB 38.6 MB/s eta 0:00:04\n",
            "   ---------- ----------------------------- 53.3/198.6 MB 38.5 MB/s eta 0:00:04\n",
            "   ---------- ----------------------------- 54.3/198.6 MB 34.4 MB/s eta 0:00:05\n",
            "   ----------- ---------------------------- 55.7/198.6 MB 32.7 MB/s eta 0:00:05\n",
            "   ----------- ---------------------------- 57.1/198.6 MB 34.4 MB/s eta 0:00:05\n",
            "   ----------- ---------------------------- 58.4/198.6 MB 32.7 MB/s eta 0:00:05\n",
            "   ------------ --------------------------- 59.9/198.6 MB 31.2 MB/s eta 0:00:05\n",
            "   ------------ --------------------------- 61.1/198.6 MB 29.8 MB/s eta 0:00:05\n",
            "   ------------ --------------------------- 62.2/198.6 MB 28.5 MB/s eta 0:00:05\n",
            "   ------------ --------------------------- 63.9/198.6 MB 28.5 MB/s eta 0:00:05\n",
            "   ------------- -------------------------- 65.5/198.6 MB 31.2 MB/s eta 0:00:05\n",
            "   ------------- -------------------------- 67.2/198.6 MB 31.2 MB/s eta 0:00:05\n",
            "   -------------- ------------------------- 69.7/198.6 MB 34.4 MB/s eta 0:00:04\n",
            "   -------------- ------------------------- 72.5/198.6 MB 46.7 MB/s eta 0:00:03\n",
            "   --------------- ------------------------ 76.2/198.6 MB 59.8 MB/s eta 0:00:03\n",
            "   --------------- ------------------------ 78.8/198.6 MB 65.6 MB/s eta 0:00:02\n",
            "   ---------------- ----------------------- 79.7/198.6 MB 54.7 MB/s eta 0:00:03\n",
            "   ---------------- ----------------------- 80.9/198.6 MB 46.7 MB/s eta 0:00:03\n",
            "   ---------------- ----------------------- 81.8/198.6 MB 40.9 MB/s eta 0:00:03\n",
            "   ---------------- ----------------------- 82.8/198.6 MB 36.4 MB/s eta 0:00:04\n",
            "   ---------------- ----------------------- 83.9/198.6 MB 32.7 MB/s eta 0:00:04\n",
            "   ----------------- ---------------------- 84.8/198.6 MB 28.4 MB/s eta 0:00:05\n",
            "   ----------------- ---------------------- 86.1/198.6 MB 26.2 MB/s eta 0:00:05\n",
            "   ----------------- ---------------------- 87.2/198.6 MB 24.2 MB/s eta 0:00:05\n",
            "   ------------------ --------------------- 89.9/198.6 MB 27.3 MB/s eta 0:00:04\n",
            "   ------------------ --------------------- 92.1/198.6 MB 32.8 MB/s eta 0:00:04\n",
            "   ------------------ --------------------- 93.5/198.6 MB 32.7 MB/s eta 0:00:04\n",
            "   ------------------- -------------------- 94.7/198.6 MB 34.4 MB/s eta 0:00:04\n",
            "   ------------------- -------------------- 95.8/198.6 MB 34.4 MB/s eta 0:00:03\n",
            "   ------------------- -------------------- 97.3/198.6 MB 36.3 MB/s eta 0:00:03\n",
            "   ------------------- -------------------- 98.8/198.6 MB 34.6 MB/s eta 0:00:03\n",
            "   ------------------- ------------------- 100.5/198.6 MB 31.2 MB/s eta 0:00:04\n",
            "   -------------------- ------------------ 102.1/198.6 MB 29.7 MB/s eta 0:00:04\n",
            "   -------------------- ------------------ 103.5/198.6 MB 31.2 MB/s eta 0:00:04\n",
            "   -------------------- ------------------ 104.8/198.6 MB 31.2 MB/s eta 0:00:04\n",
            "   -------------------- ------------------ 106.0/198.6 MB 31.2 MB/s eta 0:00:03\n",
            "   --------------------- ----------------- 107.5/198.6 MB 31.2 MB/s eta 0:00:03\n",
            "   --------------------- ----------------- 108.9/198.6 MB 31.1 MB/s eta 0:00:03\n",
            "   --------------------- ----------------- 110.7/198.6 MB 31.2 MB/s eta 0:00:03\n",
            "   ---------------------- ---------------- 112.3/198.6 MB 31.2 MB/s eta 0:00:03\n",
            "   ---------------------- ---------------- 113.5/198.6 MB 29.7 MB/s eta 0:00:03\n",
            "   ---------------------- ---------------- 114.6/198.6 MB 29.7 MB/s eta 0:00:03\n",
            "   ---------------------- ---------------- 116.0/198.6 MB 29.7 MB/s eta 0:00:03\n",
            "   ----------------------- --------------- 117.3/198.6 MB 29.7 MB/s eta 0:00:03\n",
            "   ----------------------- --------------- 118.3/198.6 MB 29.7 MB/s eta 0:00:03\n",
            "   ----------------------- --------------- 119.4/198.6 MB 28.4 MB/s eta 0:00:03\n",
            "   ----------------------- --------------- 120.9/198.6 MB 27.3 MB/s eta 0:00:03\n",
            "   ------------------------ -------------- 122.2/198.6 MB 27.3 MB/s eta 0:00:03\n",
            "   ------------------------ -------------- 123.7/198.6 MB 27.3 MB/s eta 0:00:03\n",
            "   ------------------------ -------------- 125.1/198.6 MB 28.5 MB/s eta 0:00:03\n",
            "   ------------------------ -------------- 126.7/198.6 MB 29.7 MB/s eta 0:00:03\n",
            "   ------------------------- ------------- 128.2/198.6 MB 29.7 MB/s eta 0:00:03\n",
            "   ------------------------- ------------- 129.5/198.6 MB 31.2 MB/s eta 0:00:03\n",
            "   ------------------------- ------------- 130.8/198.6 MB 31.1 MB/s eta 0:00:03\n",
            "   ------------------------- ------------- 132.0/198.6 MB 29.8 MB/s eta 0:00:03\n",
            "   -------------------------- ------------ 133.4/198.6 MB 31.2 MB/s eta 0:00:03\n",
            "   -------------------------- ------------ 134.9/198.6 MB 29.7 MB/s eta 0:00:03\n",
            "   -------------------------- ------------ 136.1/198.6 MB 29.7 MB/s eta 0:00:03\n",
            "   -------------------------- ------------ 137.4/198.6 MB 28.5 MB/s eta 0:00:03\n",
            "   --------------------------- ----------- 138.5/198.6 MB 27.3 MB/s eta 0:00:03\n",
            "   --------------------------- ----------- 139.8/198.6 MB 28.4 MB/s eta 0:00:03\n",
            "   --------------------------- ----------- 141.3/198.6 MB 28.4 MB/s eta 0:00:03\n",
            "   ---------------------------- ---------- 142.7/198.6 MB 29.8 MB/s eta 0:00:02\n",
            "   ---------------------------- ---------- 144.3/198.6 MB 29.8 MB/s eta 0:00:02\n",
            "   ---------------------------- ---------- 146.0/198.6 MB 31.2 MB/s eta 0:00:02\n",
            "   ---------------------------- ---------- 147.5/198.6 MB 31.2 MB/s eta 0:00:02\n",
            "   ---------------------------- ---------- 147.6/198.6 MB 29.7 MB/s eta 0:00:02\n",
            "   ----------------------------- --------- 150.9/198.6 MB 32.8 MB/s eta 0:00:02\n",
            "   ------------------------------ -------- 154.7/198.6 MB 43.7 MB/s eta 0:00:02\n",
            "   ------------------------------ -------- 156.7/198.6 MB 46.7 MB/s eta 0:00:01\n",
            "   ------------------------------- ------- 158.1/198.6 MB 59.5 MB/s eta 0:00:01\n",
            "   ------------------------------- ------- 159.8/198.6 MB 50.4 MB/s eta 0:00:01\n",
            "   ------------------------------- ------- 161.1/198.6 MB 43.5 MB/s eta 0:00:01\n",
            "   -------------------------------- ------ 163.2/198.6 MB 38.6 MB/s eta 0:00:01\n",
            "   -------------------------------- ------ 164.6/198.6 MB 34.4 MB/s eta 0:00:01\n",
            "   -------------------------------- ------ 166.3/198.6 MB 32.8 MB/s eta 0:00:01\n",
            "   --------------------------------- ----- 168.1/198.6 MB 34.4 MB/s eta 0:00:01\n",
            "   --------------------------------- ----- 169.6/198.6 MB 34.4 MB/s eta 0:00:01\n",
            "   --------------------------------- ----- 170.9/198.6 MB 32.7 MB/s eta 0:00:01\n",
            "   --------------------------------- ----- 172.5/198.6 MB 34.4 MB/s eta 0:00:01\n",
            "   ---------------------------------- ---- 174.1/198.6 MB 34.6 MB/s eta 0:00:01\n",
            "   ---------------------------------- ---- 175.7/198.6 MB 34.4 MB/s eta 0:00:01\n",
            "   ---------------------------------- ---- 177.2/198.6 MB 32.8 MB/s eta 0:00:01\n",
            "   ----------------------------------- --- 178.8/198.6 MB 32.8 MB/s eta 0:00:01\n",
            "   ----------------------------------- --- 180.5/198.6 MB 34.4 MB/s eta 0:00:01\n",
            "   ----------------------------------- --- 181.9/198.6 MB 34.4 MB/s eta 0:00:01\n",
            "   ------------------------------------ -- 183.3/198.6 MB 34.4 MB/s eta 0:00:01\n",
            "   ------------------------------------ -- 184.9/198.6 MB 34.4 MB/s eta 0:00:01\n",
            "   ------------------------------------ -- 186.3/198.6 MB 32.8 MB/s eta 0:00:01\n",
            "   ------------------------------------ -- 187.6/198.6 MB 32.8 MB/s eta 0:00:01\n",
            "   ------------------------------------- - 188.7/198.6 MB 31.2 MB/s eta 0:00:01\n",
            "   ------------------------------------- - 189.9/198.6 MB 29.7 MB/s eta 0:00:01\n",
            "   ------------------------------------- - 191.5/198.6 MB 29.7 MB/s eta 0:00:01\n",
            "   ------------------------------------- - 192.9/198.6 MB 29.7 MB/s eta 0:00:01\n",
            "   --------------------------------------  194.4/198.6 MB 29.7 MB/s eta 0:00:01\n",
            "   --------------------------------------  197.9/198.6 MB 38.5 MB/s eta 0:00:01\n",
            "   --------------------------------------  198.6/198.6 MB 38.6 MB/s eta 0:00:01\n",
            "   --------------------------------------  198.6/198.6 MB 38.6 MB/s eta 0:00:01\n",
            "   --------------------------------------  198.6/198.6 MB 38.6 MB/s eta 0:00:01\n",
            "   --------------------------------------  198.6/198.6 MB 38.6 MB/s eta 0:00:01\n",
            "   --------------------------------------  198.6/198.6 MB 38.6 MB/s eta 0:00:01\n",
            "   --------------------------------------  198.6/198.6 MB 38.6 MB/s eta 0:00:01\n",
            "   --------------------------------------  198.6/198.6 MB 38.6 MB/s eta 0:00:01\n",
            "   --------------------------------------  198.6/198.6 MB 38.6 MB/s eta 0:00:01\n",
            "   --------------------------------------  198.6/198.6 MB 38.6 MB/s eta 0:00:01\n",
            "   --------------------------------------  198.6/198.6 MB 38.6 MB/s eta 0:00:01\n",
            "   --------------------------------------  198.6/198.6 MB 38.6 MB/s eta 0:00:01\n",
            "   --------------------------------------- 198.6/198.6 MB 12.8 MB/s eta 0:00:00\n",
            "Downloading torchvision-0.17.1-cp310-cp310-win_amd64.whl (1.2 MB)\n",
            "   ---------------------------------------- 0.0/1.2 MB ? eta -:--:--\n",
            "   ---------------------------------------  1.2/1.2 MB 37.0 MB/s eta 0:00:01\n",
            "   ---------------------------------------- 1.2/1.2 MB 24.6 MB/s eta 0:00:00\n",
            "Downloading torchaudio-2.2.1-cp310-cp310-win_amd64.whl (2.4 MB)\n",
            "   ---------------------------------------- 0.0/2.4 MB ? eta -:--:--\n",
            "   ------------------------- -------------- 1.5/2.4 MB 46.4 MB/s eta 0:00:01\n",
            "   ---------------------------------------  2.4/2.4 MB 37.2 MB/s eta 0:00:01\n",
            "   ---------------------------------------- 2.4/2.4 MB 25.0 MB/s eta 0:00:00\n",
            "Installing collected packages: torch, torchvision, torchaudio\n",
            "  Attempting uninstall: torch\n",
            "    Found existing installation: torch 2.2.0+cu118\n",
            "    Uninstalling torch-2.2.0+cu118:\n",
            "      Successfully uninstalled torch-2.2.0+cu118\n",
            "  Attempting uninstall: torchvision\n",
            "    Found existing installation: torchvision 0.17.0+cu118\n",
            "    Uninstalling torchvision-0.17.0+cu118:\n",
            "      Successfully uninstalled torchvision-0.17.0+cu118\n",
            "  Attempting uninstall: torchaudio\n",
            "    Found existing installation: torchaudio 2.2.0+cu118\n",
            "    Uninstalling torchaudio-2.2.0+cu118:\n",
            "      Successfully uninstalled torchaudio-2.2.0+cu118\n",
            "Successfully installed torch-2.2.1 torchaudio-2.2.1 torchvision-0.17.1\n"
          ]
        }
      ],
      "source": [
        "!pip install openimages\n",
        "!pip install torch torchvision torchaudio --upgrade"
      ]
    },
    {
      "cell_type": "markdown",
      "metadata": {
        "id": "9wJx4V91P95o"
      },
      "source": [
        "Pasirenkame klases, kurias tirsime"
      ]
    },
    {
      "cell_type": "code",
      "execution_count": 2,
      "metadata": {
        "id": "aWoGQD3MJ3UY"
      },
      "outputs": [],
      "source": [
        "Class1 = 'Fountain'\n",
        "Class2 = 'Mushroom'\n",
        "Class3 = 'Strawberry'"
      ]
    },
    {
      "cell_type": "markdown",
      "metadata": {
        "id": "3ngDb75UQCCo"
      },
      "source": [
        "Parsisiunčiame nuotraukas"
      ]
    },
    {
      "cell_type": "code",
      "execution_count": 3,
      "metadata": {
        "id": "GYDqTOxeHRol"
      },
      "outputs": [],
      "source": [
        "from openimages.download import download_dataset\n",
        "\n",
        "data_dir = 'data'\n",
        "classes = [Class1, Class2, Class3]\n",
        "number_for_samples = 200\n",
        "\n",
        "# download_dataset(data_dir, classes, limit=number_for_samples)"
      ]
    },
    {
      "cell_type": "markdown",
      "metadata": {
        "id": "TFkdo1uTQICr"
      },
      "source": [
        "Aprašome pagrindines transformacijas, sukuriame duomenų rinkinį ir užkrauname pirmas nuotraukas (batch)"
      ]
    },
    {
      "cell_type": "code",
      "execution_count": 4,
      "metadata": {
        "id": "E6u6BuVvHtuF"
      },
      "outputs": [],
      "source": [
        "import torch\n",
        "from torchvision import transforms, datasets\n",
        "\n",
        "preprocess = transforms.Compose([\n",
        "    transforms.Resize(256),\n",
        "    transforms.CenterCrop(224),\n",
        "    transforms.ToTensor(),\n",
        "    transforms.Normalize(mean=[0.485, 0.456, 0.406], std=[0.229, 0.224, 0.225]),\n",
        "])\n",
        "\n",
        "dataset = datasets.ImageFolder(root=data_dir, transform=preprocess)\n",
        "class_to_idx = dataset.class_to_idx\n",
        "\n",
        "batch_holder = torch.utils.data.DataLoader(dataset, batch_size=128, shuffle=True, num_workers=4)"
      ]
    },
    {
      "cell_type": "markdown",
      "metadata": {
        "id": "vvyP2pTORwg0"
      },
      "source": [
        "Patikriname ar įjungtas GPU ir sukuriame modėlį, kurį naudosime nuotraukų vertinimui"
      ]
    },
    {
      "cell_type": "code",
      "execution_count": null,
      "metadata": {
        "id": "xOo2Rm6XHzWD"
      },
      "outputs": [],
      "source": [
        "from torchvision import models\n",
        "\n",
        "# if torch.cuda.is_available():\n",
        "#     device = torch.device('cuda')\n",
        "# else:\n",
        "#     raise SystemError(\"CUDA is not available. This script requires a GPU.\")\n",
        "\n",
        "model = models.resnet50(weights=models.ResNet50_Weights.DEFAULT)\n",
        "# model.to(device)\n",
        "model.eval()"
      ]
    },
    {
      "cell_type": "markdown",
      "metadata": {
        "id": "TTKTsaIJSBL5"
      },
      "source": [
        "Apskaičiuojame reikšmes\n",
        "*  Tikslumas (Accuracy): Teisingai numatytų stebėjimų proporcija iš visų stebėjimų.\n",
        "*  Atkūrimas (Recall): Tikrųjų teigiamų atvejų, kurie buvo teisingai identifikuoti, proporcija.\n",
        "*   Precizija (Precision): Teigiamų identifikacijų, kurios iš tikrųjų buvo teisingos, proporcija.\n",
        "*   F1 statistikos: Precizijos ir atpažinimo tikslumo svoris vidurkis."
      ]
    },
    {
      "cell_type": "code",
      "execution_count": 9,
      "metadata": {
        "id": "6moe2g6MH8_B"
      },
      "outputs": [],
      "source": [
        "import numpy as np\n",
        "\n",
        "def calculate_metrics(ground_truth, predictions, threshold=0.5):\n",
        "  predictions_thresholded = (predictions >= threshold).astype(np.float64)\n",
        "  TP = np.sum((predictions_thresholded == 1) & (ground_truth == 1))\n",
        "  TN = np.sum((predictions_thresholded == 0) & (ground_truth == 0))\n",
        "  FP = np.sum((predictions_thresholded == 1) & (ground_truth == 0))\n",
        "  FN = np.sum((predictions_thresholded == 0) & (ground_truth == 1))\n",
        "\n",
        "  accuracy = (TP + TN) / (TP + FP + TN + FN) if (TP + FP + TN + FN) > 0 else 0\n",
        "  recall = TP / (TP + FN) if (TP + FN) > 0 else 0\n",
        "  precision = TP / (TP + FP) if (TP + FP) > 0 else 0\n",
        "  f1 = 2 * (precision * recall) / (precision + recall) if (precision + recall) > 0 else 0\n",
        "\n",
        "  return {\n",
        "    'accuracy': accuracy,\n",
        "    'recall': recall,\n",
        "    'precision': precision,\n",
        "    'f1': f1\n",
        "  }"
      ]
    },
    {
      "cell_type": "markdown",
      "metadata": {
        "id": "eBnnff9ASfTH"
      },
      "source": [
        "Ištraukiam tikimybes tam tikrai klasei ir sulyginam jas su atitinkamomis tikrosiomis žymėmis. Išvedam sąrašą porų, kiekvienoje iš jų yra tikimybė ir dvejetainė tikroji vertė, nurodanti, ar klasės žymė atitinka laukiamą klasę."
      ]
    },
    {
      "cell_type": "code",
      "execution_count": 10,
      "metadata": {
        "id": "XGX4jW0RIAbq"
      },
      "outputs": [],
      "source": [
        "def calculate_prob(arr2D, class_id, label_arr, class_label):\n",
        "  result = []\n",
        "  label_bool = 1.0\n",
        "  for i in range(0, len(label_arr)):\n",
        "    if class_label == label_arr[i]:\n",
        "      label_bool = 1.0\n",
        "    else:\n",
        "      label_bool = 0.0\n",
        "    result.append((arr2D[i][class_id], label_bool))\n",
        "  return result"
      ]
    },
    {
      "cell_type": "markdown",
      "metadata": {
        "id": "rl_VfQ9BSrPB"
      },
      "source": [
        "Paimam `calculate_prob` funkcijos sugeneruotą porų sąrašą ir ištraukiam tik tikimybes į sąrašą."
      ]
    },
    {
      "cell_type": "code",
      "execution_count": 11,
      "metadata": {
        "id": "A2Iw9f8LICcx"
      },
      "outputs": [],
      "source": [
        "def extract_prob(arr):\n",
        "  result = []\n",
        "  for prob, truth in arr:\n",
        "      prob = prob.cpu().numpy() if prob.is_cuda else prob.numpy()\n",
        "      result.append(prob)\n",
        "  return result\n"
      ]
    },
    {
      "cell_type": "markdown",
      "metadata": {
        "id": "uaBmngSCSzvW"
      },
      "source": [
        "Panašiai kaip `extract_prob`, bet ši funkcija ištraukia tikrasias vertes iš porų sąrašo."
      ]
    },
    {
      "cell_type": "code",
      "execution_count": 12,
      "metadata": {
        "id": "1Myd_k5VIFpr"
      },
      "outputs": [],
      "source": [
        "def extract_gt(arr):\n",
        "  result = []\n",
        "  for prob, truth in arr:\n",
        "    result.append(truth)\n",
        "  return result"
      ]
    },
    {
      "cell_type": "markdown",
      "metadata": {
        "id": "dcYevAiSS6cS"
      },
      "source": [
        "Ši funkcija derina ankstesnių funkcijų naudojimą, ištraukia tikrąsias žymes ir numatytas tikimybes, tada naudoja šiuos duomenis metrikoms apskaičiuoti, kviesdama `calculate_metrics`.\n"
      ]
    },
    {
      "cell_type": "code",
      "execution_count": 13,
      "metadata": {
        "id": "9JnWoP0BIH_N"
      },
      "outputs": [],
      "source": [
        "def extractAndCalculate(gt_prob_list, treshold):\n",
        "  gt_list = extract_gt(gt_prob_list)\n",
        "  pred_list = extract_prob(gt_prob_list)\n",
        "  return calculate_metrics(np.array(gt_list), np.array(pred_list), treshold)\n"
      ]
    },
    {
      "cell_type": "markdown",
      "metadata": {
        "id": "Hd4MUcyZTAwL"
      },
      "source": [
        "Ši funkcija atranda geriausią threshold kiekvienai klasei."
      ]
    },
    {
      "cell_type": "code",
      "execution_count": 16,
      "metadata": {
        "id": "rd9I8YAgLb1K"
      },
      "outputs": [],
      "source": [
        "import numpy as np\n",
        "from sklearn.metrics import f1_score\n",
        "\n",
        "def find_best_threshold_for_class(probabilities, ground_truths):\n",
        "    thresholds = np.arange(0.0, 1.05, 0.05)\n",
        "    best_threshold = 0.5\n",
        "    best_f1 = 0.0\n",
        "\n",
        "    for threshold in thresholds:\n",
        "        predictions = (probabilities >= threshold).astype(int)\n",
        "        f1 = f1_score(ground_truths, predictions)\n",
        "\n",
        "        if f1 > best_f1:\n",
        "            best_f1 = f1\n",
        "            best_threshold = threshold\n",
        "\n",
        "    return best_threshold, best_f1"
      ]
    },
    {
      "cell_type": "markdown",
      "metadata": {
        "id": "GlHYov71TJVi"
      },
      "source": [
        "Pritaikome geriausią threshold"
      ]
    },
    {
      "cell_type": "code",
      "execution_count": 17,
      "metadata": {
        "id": "62_FufHCNwfT"
      },
      "outputs": [],
      "source": [
        "def apply_threshold(probabilities, threshold):\n",
        "    return (probabilities >= threshold).astype(int)"
      ]
    },
    {
      "cell_type": "markdown",
      "metadata": {
        "id": "gX22KQwYTM68"
      },
      "source": [
        "Aprašome kintamuosius ir parenkame class_id pagal klases."
      ]
    },
    {
      "cell_type": "code",
      "execution_count": 18,
      "metadata": {
        "id": "DfWOEuQQIPyA"
      },
      "outputs": [],
      "source": [
        "class1_id = class_to_idx[Class1.lower()]\n",
        "class2_id = class_to_idx[Class2.lower()]\n",
        "class3_id = class_to_idx[Class3.lower()]\n",
        "\n",
        "class1_probabilities = []\n",
        "class2_probabilities = []\n",
        "class3_probabilities = []\n",
        "\n",
        "class1_ground_truths = []\n",
        "class2_ground_truths = []\n",
        "class3_ground_truths = []"
      ]
    },
    {
      "cell_type": "markdown",
      "metadata": {
        "id": "Ua97HEd-TUAb"
      },
      "source": [
        "Kiekvienas rinkinys (batch) (po 64 nuotraukas) siunčiamas į modelį, kuris kiekvienai nuotraukai atiduoda 1000 ilgio sąrašą: [tikimybė_kad_nuotraukoje_klasė1, ... ,  tikimybė_kad_nuotraukoje_klasė1000]\n",
        "\n",
        "Skaičiuojami tikslumas (accuracy), atkūrimas (recall), precizija (precision) ir F1 statistikos kiekvienai klasei atskirai"
      ]
    },
    {
      "cell_type": "code",
      "execution_count": 20,
      "metadata": {
        "id": "36FJPb1bIUV1"
      },
      "outputs": [
        {
          "name": "stdout",
          "output_type": "stream",
          "text": [
            "Best threshold for Fountain: 0.0 with F1: 0.5\n",
            "Best threshold for Mushroom: 0.0 with F1: 0.5\n",
            "Best threshold for Strawberry: 0.4 with F1: 0.5195154777927322\n",
            "Fountain statistics with best threshold: {'accuracy': 0.3333333333333333, 'recall': 1.0, 'precision': 0.3333333333333333, 'f1': 0.5}\n",
            "Mushroom statistics with best threshold: {'accuracy': 0.3333333333333333, 'recall': 1.0, 'precision': 0.3333333333333333, 'f1': 0.5}\n",
            "Strawberry statistics with best threshold: {'accuracy': 0.405, 'recall': 0.965, 'precision': 0.35543278084714547, 'f1': 0.5195154777927321}\n"
          ]
        }
      ],
      "source": [
        "import torch\n",
        "\n",
        "for images, labels in batch_holder:\n",
        "    # images, labels = images.to(device), labels.to(device)\n",
        "    outputs = model(images)\n",
        "    probabilities = torch.sigmoid(outputs).detach()\n",
        "\n",
        "    probabilities_np = probabilities.cpu().numpy()\n",
        "    labels_np = labels.cpu().numpy()\n",
        "\n",
        "    class1_probabilities.extend(probabilities_np[:, class1_id])\n",
        "    class2_probabilities.extend(probabilities_np[:, class2_id])\n",
        "    class3_probabilities.extend(probabilities_np[:, class3_id])\n",
        "\n",
        "    num_classes = model.fc.out_features\n",
        "    one_hot_labels = np.eye(num_classes)[labels_np]\n",
        "    class1_ground_truths.extend(one_hot_labels[:, class1_id])\n",
        "    class2_ground_truths.extend(one_hot_labels[:, class2_id])\n",
        "    class3_ground_truths.extend(one_hot_labels[:, class3_id])\n",
        "\n",
        "class1_probabilities = np.array(class1_probabilities)\n",
        "class2_probabilities = np.array(class2_probabilities)\n",
        "class3_probabilities = np.array(class3_probabilities)\n",
        "\n",
        "class1_ground_truths = np.array(class1_ground_truths)\n",
        "class2_ground_truths = np.array(class2_ground_truths)\n",
        "class3_ground_truths = np.array(class3_ground_truths)\n",
        "\n",
        "best_threshold_class1, best_f1_class1 = find_best_threshold_for_class(class1_probabilities, class1_ground_truths)\n",
        "best_threshold_class2, best_f1_class2 = find_best_threshold_for_class(class2_probabilities, class2_ground_truths)\n",
        "best_threshold_class3, best_f1_class3 = find_best_threshold_for_class(class3_probabilities, class3_ground_truths)\n",
        "\n",
        "print(f\"Best threshold for {Class1}: {best_threshold_class1} with F1: {best_f1_class1}\")\n",
        "print(f\"Best threshold for {Class2}: {best_threshold_class2} with F1: {best_f1_class2}\")\n",
        "print(f\"Best threshold for {Class3}: {best_threshold_class3} with F1: {best_f1_class3}\")\n",
        "\n",
        "class1_metrics = calculate_metrics(class1_ground_truths, apply_threshold(class1_probabilities, best_threshold_class1), best_threshold_class1)\n",
        "class2_metrics = calculate_metrics(class2_ground_truths, apply_threshold(class2_probabilities, best_threshold_class2), best_threshold_class2)\n",
        "class3_metrics = calculate_metrics(class3_ground_truths, apply_threshold(class3_probabilities, best_threshold_class3), best_threshold_class3)\n",
        "\n",
        "print(f\"{Class1} statistics with best threshold: {class1_metrics}\")\n",
        "print(f\"{Class2} statistics with best threshold: {class2_metrics}\")\n",
        "print(f\"{Class3} statistics with best threshold: {class3_metrics}\")"
      ]
    }
  ],
  "metadata": {
    "accelerator": "GPU",
    "colab": {
      "gpuType": "T4",
      "provenance": []
    },
    "kernelspec": {
      "display_name": "Python 3",
      "name": "python3"
    },
    "language_info": {
      "codemirror_mode": {
        "name": "ipython",
        "version": 3
      },
      "file_extension": ".py",
      "mimetype": "text/x-python",
      "name": "python",
      "nbconvert_exporter": "python",
      "pygments_lexer": "ipython3",
      "version": "3.10.13"
    }
  },
  "nbformat": 4,
  "nbformat_minor": 0
}
